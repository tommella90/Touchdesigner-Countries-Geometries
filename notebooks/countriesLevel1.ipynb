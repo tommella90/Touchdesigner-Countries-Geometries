{
 "cells": [
  {
   "cell_type": "code",
   "execution_count": null,
   "id": "0dae7cc3",
   "metadata": {},
   "outputs": [],
   "source": [
    "from shapely.geometry import MultiPolygon, Polygon, mapping, shape\n",
    "import json\n",
    "from shapely.geometry import shape, mapping\n",
    "from shapely.ops import unary_union\n",
    "import os\n",
    "import csv\n",
    "from shapely.ops import transform\n",
    "from pyproj import Transformer\n",
    "import json\n"
   ]
  },
  {
   "cell_type": "code",
   "execution_count": null,
   "id": "9746ffdf",
   "metadata": {},
   "outputs": [],
   "source": [
    "file = \"../rawData/countries.geoJson\"\n",
    "transformer = Transformer.from_crs(\"EPSG:4326\", \"EPSG:3857\", always_xy=True)\n",
    "\n",
    "with open(file, 'r') as f:\n",
    "    data = json.load(f)"
   ]
  },
  {
   "cell_type": "markdown",
   "id": "bdf5bfa3",
   "metadata": {},
   "source": [
    "## Missing Iso"
   ]
  },
  {
   "cell_type": "code",
   "execution_count": null,
   "id": "62293df8",
   "metadata": {},
   "outputs": [],
   "source": [
    "# list all names if 'ISO3166-1-Alpha-3' == -99\n",
    "missing_names = [\n",
    "    feature['properties']['name'] for feature in data['features']\n",
    "    if feature['properties']['ISO3166-1-Alpha-3'] == '-99'\n",
    "]   \n",
    "print(\"Missing ISO codes for countries:\")\n",
    "for name in missing_names:\n",
    "    print(f\"{name}\")"
   ]
  },
  {
   "cell_type": "code",
   "execution_count": null,
   "id": "ad328982",
   "metadata": {},
   "outputs": [],
   "source": [
    "missingIso = {\n",
    "    \"France\": \"FRA\",\n",
    "    \"Norway\": \"NOR\",\n",
    "    \"Somaliland\": \"SOM\",\n",
    "    \"Kosovo\": \"KOS\",\n",
    "    \"Dhekelia Sovereign Base Area\": \"SBA\"\n",
    "}\n",
    "\n",
    "# replace -99 with corresponding name\n",
    "for feature in data['features']:\n",
    "    if feature['properties']['name'] in missingIso:\n",
    "        feature['properties']['ISO3166-1-Alpha-3'] = missingIso[feature['properties']['name']]"
   ]
  },
  {
   "cell_type": "markdown",
   "id": "9a54eb05",
   "metadata": {},
   "source": [
    "## Process Data"
   ]
  },
  {
   "cell_type": "code",
   "execution_count": null,
   "id": "64550aa6",
   "metadata": {},
   "outputs": [],
   "source": [
    "\n",
    "tolerance = 0\n",
    "tol_str = str(tolerance).replace('.', '_')\n",
    "normalize = True\n",
    "scale_factor = 100000\n",
    "\n",
    "crs = \"EPSG:3857\"\n",
    "if crs == \"EPSG:3857\":\n",
    "    crs_path = \"WebMercator\"\n",
    "else:\n",
    "    crs_path = \"WGS84\"\n",
    "\n",
    "# output_dir = \"../processedData/test\"\n",
    "output_dir = f'../processedData/{crs_path}/tol{tol_str}_scale{scale_factor}'\n",
    "\n",
    "def scale_coords(x, y, z=None):\n",
    "    return x / scale_factor, y / scale_factor\n",
    "\n",
    "# --- LOAD DATA ---\n",
    "with open(file, 'r') as f:\n",
    "    data = json.load(f)\n",
    "\n",
    "# --- TRANSFORMER (WGS84 -> Web Mercator) ---\n",
    "transformer = Transformer.from_crs(\"EPSG:4326\", \"EPSG:3857\", always_xy=True)\n",
    "\n",
    "for idx in range(len(data['features'])):\n",
    "# for idx in range(3):\n",
    "    # Exclude Antarctica\n",
    "    if data['features'][idx]['properties']['ISO3166-1-Alpha-3'] == \"ATA\":\n",
    "        continue\n",
    "\n",
    "        # Process the feature\n",
    "    feature = data['features'][idx]\n",
    "    iso3 = feature['properties']['ISO3166-1-Alpha-3']\n",
    "    geometry = shape(feature['geometry'])\n",
    "    geometry = transform(transformer.transform, geometry)\n",
    "    geometry = transform(scale_coords, geometry)               # Apply scaling\n",
    "    geometry = geometry.simplify(tolerance, preserve_topology=True)\n",
    "\n",
    "    # --- Make polygons iterable ---\n",
    "    if isinstance(geometry, Polygon):\n",
    "        polygons = [geometry]\n",
    "    elif isinstance(geometry, MultiPolygon):\n",
    "        polygons = list(geometry.geoms)\n",
    "    else:\n",
    "        raise TypeError(f\"Unsupported geometry type: {geometry.geom_type}\")\n",
    "\n",
    "    outline_coords = []\n",
    "\n",
    "    for polygon in polygons:\n",
    "        outline = polygon.boundary\n",
    "        lines = outline.geoms if outline.geom_type == 'MultiLineString' else [outline]\n",
    "        for line in lines:\n",
    "            coords = list(line.coords)\n",
    "            outline_coords.append(coords)\n",
    "    print(f\"[✓] Processed {iso3} with {len(outline_coords)} outlines\")\n",
    "   \n",
    "\n",
    "    os.makedirs(output_dir, exist_ok=True)\n",
    "    out_path = os.path.join(output_dir, f\"{iso3}.json\")\n",
    "\n",
    "    with open(out_path, 'w') as f_out:\n",
    "        json.dump({\"coordinates\": outline_coords}, f_out)\n",
    "\n",
    "    print(f\"[✓] Saved {iso3} to {out_path}\")"
   ]
  },
  {
   "cell_type": "markdown",
   "id": "71768332",
   "metadata": {},
   "source": [
    "## Test plot"
   ]
  },
  {
   "cell_type": "code",
   "execution_count": null,
   "id": "b806b92e",
   "metadata": {},
   "outputs": [],
   "source": [
    "# plot all json \n",
    "path = \"../processedData/WebMercator/tol0\"\n",
    "\n",
    "import matplotlib.pyplot as plt \n",
    "import json\n",
    "import os\n",
    "color = ['red', 'green', 'blue', 'orange', 'purple', 'brown', 'pink', 'gray']\n",
    "\n",
    "# plot all files in path \n",
    "files = [f for f in os.listdir(path) if f.endswith('.json')]\n",
    "files\n",
    "for i, file in enumerate(files):\n",
    "    print(f\"Processing {file}...\")\n",
    "    with open(os.path.join(path, file), 'r') as f:\n",
    "        data = json.load(f)\n",
    "    coords = data['coordinates']\n",
    "    for coord in coords:\n",
    "        line = LineString(coord)\n",
    "        x, y = line.xy\n",
    "        plt.plot(x, y, color=color[i % len(color)], linewidth=1)\n",
    "\n",
    "\n"
   ]
  }
 ],
 "metadata": {
  "kernelspec": {
   "display_name": ".td",
   "language": "python",
   "name": "python3"
  },
  "language_info": {
   "codemirror_mode": {
    "name": "ipython",
    "version": 3
   },
   "file_extension": ".py",
   "mimetype": "text/x-python",
   "name": "python",
   "nbconvert_exporter": "python",
   "pygments_lexer": "ipython3",
   "version": "3.12.0"
  }
 },
 "nbformat": 4,
 "nbformat_minor": 5
}
